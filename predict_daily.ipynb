{
  "cells": [
    {
      "cell_type": "code",
      "execution_count": 1,
      "metadata": {
        "id": "OjFe06f9ORC9"
      },
      "outputs": [],
      "source": [
        "# Import the necessary libraries\n",
        "import pandas as pd\n",
        "import yfinance as yf\n",
        "import bs4 as bs\n",
        "import matplotlib.pyplot as plt\n",
        "import warnings\n",
        "import numpy as np\n",
        "from sklearn.ensemble import RandomForestClassifier\n",
        "from sklearn.model_selection import train_test_split\n",
        "from tqdm import tqdm\n",
        "import requests\n",
        "from pandas.tseries.offsets import DateOffset\n",
        "from sklearn.metrics import accuracy_score\n",
        "from sklearn.metrics import confusion_matrix\n",
        "from lib.utils.helpers import get_stock_symbols, extract_numerical_columns, get_snp_companies, get_cols_to_be_divided_by_total_assets\n",
        "from lib.utils.stocks import get_meta_data\n",
        "warnings.filterwarnings(\"ignore\")"
      ]
    },
    {
      "cell_type": "code",
      "execution_count": 2,
      "metadata": {},
      "outputs": [
        {
          "name": "stderr",
          "output_type": "stream",
          "text": [
            "WBD:  36%|███▌      | 540/1506 [00:08<01:07, 14.40it/s]    "
          ]
        },
        {
          "name": "stdout",
          "output_type": "stream",
          "text": [
            "Error with ticker: AMEH\n"
          ]
        },
        {
          "name": "stderr",
          "output_type": "stream",
          "text": [
            "MCK:  80%|███████▉  | 1200/1506 [00:13<00:04, 66.80it/s]   "
          ]
        },
        {
          "name": "stdout",
          "output_type": "stream",
          "text": [
            "Error fetching HTML content: 404 Client Error: Not Found for url: https://stockanalysis.com/stocks/lscc%20/financials/balance-sheet/?p=quarterly\n",
            "Error with ticker: LSCC \n"
          ]
        },
        {
          "name": "stderr",
          "output_type": "stream",
          "text": [
            "MCHP:  92%|█████████▏| 1392/1506 [00:20<00:12,  8.93it/s]  "
          ]
        },
        {
          "name": "stdout",
          "output_type": "stream",
          "text": [
            "Error with ticker: TMST\n"
          ]
        },
        {
          "name": "stderr",
          "output_type": "stream",
          "text": [
            "CF: 100%|██████████| 1506/1506 [00:21<00:00, 70.05it/s]  \n"
          ]
        }
      ],
      "source": [
        "from lib.utils.stocks import build_stocks\n",
        "from datetime import date\n",
        "today = date.today()\n",
        "\n",
        "today_str = today.strftime(\"%Y-%m-%d\")\n",
        "build_stocks(f\"lib/stocks/quarterly_statements_{today_str}.csv\")"
      ]
    },
    {
      "cell_type": "code",
      "execution_count": 21,
      "metadata": {
        "id": "dPDxYkR_TMBu"
      },
      "outputs": [],
      "source": [
        "stocks = pd.read_csv(f\"./lib/stocks/quarterly_statements_{today_str}.csv\",index_col='end_of_quarter', parse_dates=True)"
      ]
    },
    {
      "cell_type": "code",
      "execution_count": 22,
      "metadata": {
        "id": "utIjIM6d2sIv"
      },
      "outputs": [],
      "source": [
        "# getting all top 1500 US companies \n",
        "stock_symbols = get_stock_symbols()"
      ]
    },
    {
      "cell_type": "code",
      "execution_count": 23,
      "metadata": {
        "id": "ru5pK5AXT4tp"
      },
      "outputs": [],
      "source": [
        "stocks = stocks.loc['2020-01-01':]\n",
        "stocks = stocks.loc[stocks.ticker.isin(stock_symbols)]\n",
        "stocks['end_of_quarter'] = stocks.index"
      ]
    },
    {
      "cell_type": "code",
      "execution_count": 24,
      "metadata": {
        "colab": {
          "background_save": true
        },
        "id": "aIRZWJxA38RS"
      },
      "outputs": [
        {
          "name": "stderr",
          "output_type": "stream",
          "text": [
            "  0%|          | 6/1506 [00:27<1:43:04,  4.12s/it]"
          ]
        },
        {
          "name": "stdout",
          "output_type": "stream",
          "text": [
            "index 0 is out of bounds for axis 0 with size 0 AXON earnings_date=pd.Timestamp\n"
          ]
        },
        {
          "name": "stderr",
          "output_type": "stream",
          "text": [
            "  1%|          | 12/1506 [00:56<1:37:46,  3.93s/it]"
          ]
        },
        {
          "name": "stdout",
          "output_type": "stream",
          "text": [
            "Error in getting earnings dates Expecting value: line 1 column 1 (char 0) GEV\n"
          ]
        },
        {
          "name": "stderr",
          "output_type": "stream",
          "text": [
            "  3%|▎         | 46/1506 [03:50<2:27:07,  6.05s/it]CXM: Data doesn't exist for startDate = 1712289600, endDate = 1720152000\n",
            "  3%|▎         | 47/1506 [03:55<2:16:58,  5.63s/it]"
          ]
        },
        {
          "name": "stdout",
          "output_type": "stream",
          "text": [
            "index -1 is out of bounds for axis 0 with size 0 CXM\n"
          ]
        },
        {
          "name": "stderr",
          "output_type": "stream",
          "text": [
            "  6%|▌         | 83/1506 [06:56<2:02:06,  5.15s/it]LEN: Data doesn't exist for startDate = 1712289600, endDate = 1720152000\n",
            "  6%|▌         | 84/1506 [07:04<2:18:58,  5.86s/it]"
          ]
        },
        {
          "name": "stdout",
          "output_type": "stream",
          "text": [
            "index -1 is out of bounds for axis 0 with size 0 LEN\n"
          ]
        },
        {
          "name": "stderr",
          "output_type": "stream",
          "text": [
            "  7%|▋         | 102/1506 [08:24<1:13:14,  3.13s/it]"
          ]
        },
        {
          "name": "stdout",
          "output_type": "stream",
          "text": [
            "Error in getting earnings dates index 0 is out of bounds for axis 0 with size 0 BRK.B\n"
          ]
        },
        {
          "name": "stderr",
          "output_type": "stream",
          "text": [
            "  7%|▋         | 104/1506 [08:36<1:46:46,  4.57s/it]"
          ]
        },
        {
          "name": "stdout",
          "output_type": "stream",
          "text": [
            "index 0 is out of bounds for axis 0 with size 0 AXP earnings_date=pd.Timestamp\n",
            "index 0 is out of bounds for axis 0 with size 0 AXP earnings_date=pd.Timestamp\n",
            "index 0 is out of bounds for axis 0 with size 0 AXP earnings_date=pd.Timestamp\n",
            "index 0 is out of bounds for axis 0 with size 0 AXP earnings_date=pd.Timestamp\n",
            "index 0 is out of bounds for axis 0 with size 0 AXP earnings_date=pd.Timestamp\n"
          ]
        },
        {
          "name": "stderr",
          "output_type": "stream",
          "text": [
            "  8%|▊         | 118/1506 [09:49<1:51:05,  4.80s/it]"
          ]
        },
        {
          "name": "stdout",
          "output_type": "stream",
          "text": [
            "index 0 is out of bounds for axis 0 with size 0 ACN earnings_date=pd.Timestamp\n",
            "index 0 is out of bounds for axis 0 with size 0 ACN earnings_date=pd.Timestamp\n"
          ]
        },
        {
          "name": "stderr",
          "output_type": "stream",
          "text": [
            "  8%|▊         | 125/1506 [10:29<2:22:08,  6.18s/it]CALM: Data doesn't exist for startDate = 1712635200, endDate = 1720497600\n",
            "  8%|▊         | 126/1506 [10:38<2:36:29,  6.80s/it]"
          ]
        },
        {
          "name": "stdout",
          "output_type": "stream",
          "text": [
            "index -1 is out of bounds for axis 0 with size 0 CALM\n"
          ]
        },
        {
          "name": "stderr",
          "output_type": "stream",
          "text": [
            "  9%|▉         | 142/1506 [11:57<1:56:12,  5.11s/it]404 Client Error: Not Found for url: https://query2.finance.yahoo.com/v10/finance/quoteSummary/CWEN.A?modules=financialData%2CquoteType%2CdefaultKeyStatistics%2CassetProfile%2CsummaryDetail&corsDomain=finance.yahoo.com&formatted=false&symbol=CWEN.A&crumb=EIGC1pTOpgm\n",
            "  9%|▉         | 143/1506 [11:58<1:30:06,  3.97s/it]"
          ]
        },
        {
          "name": "stdout",
          "output_type": "stream",
          "text": [
            "Error in getting earnings dates index 0 is out of bounds for axis 0 with size 0 CWEN.A\n"
          ]
        },
        {
          "name": "stderr",
          "output_type": "stream",
          "text": [
            " 11%|█         | 159/1506 [13:11<1:28:09,  3.93s/it]"
          ]
        },
        {
          "name": "stdout",
          "output_type": "stream",
          "text": [
            "Error in getting earnings dates Expecting value: line 1 column 1 (char 0) OZK\n"
          ]
        },
        {
          "name": "stderr",
          "output_type": "stream",
          "text": [
            " 18%|█▊        | 275/1506 [23:22<1:46:12,  5.18s/it]"
          ]
        },
        {
          "name": "stdout",
          "output_type": "stream",
          "text": [
            "index 0 is out of bounds for axis 0 with size 0 GBX earnings_date=pd.Timestamp\n"
          ]
        },
        {
          "name": "stderr",
          "output_type": "stream",
          "text": [
            " 19%|█▊        | 282/1506 [24:03<2:05:22,  6.15s/it]KR: Data doesn't exist for startDate = 1712635200, endDate = 1720497600\n",
            " 19%|█▉        | 283/1506 [24:11<2:19:36,  6.85s/it]"
          ]
        },
        {
          "name": "stdout",
          "output_type": "stream",
          "text": [
            "index -1 is out of bounds for axis 0 with size 0 KR\n"
          ]
        },
        {
          "name": "stderr",
          "output_type": "stream",
          "text": [
            " 19%|█▉        | 289/1506 [24:41<1:43:17,  5.09s/it]"
          ]
        },
        {
          "name": "stdout",
          "output_type": "stream",
          "text": [
            "index 0 is out of bounds for axis 0 with size 0 BANC earnings_date=pd.Timestamp\n"
          ]
        },
        {
          "name": "stderr",
          "output_type": "stream",
          "text": [
            " 21%|██        | 312/1506 [26:39<1:38:09,  4.93s/it]REX: Data doesn't exist for startDate = 1712289600, endDate = 1720152000\n",
            " 21%|██        | 313/1506 [26:45<1:45:46,  5.32s/it]"
          ]
        },
        {
          "name": "stdout",
          "output_type": "stream",
          "text": [
            "index -1 is out of bounds for axis 0 with size 0 REX\n"
          ]
        },
        {
          "name": "stderr",
          "output_type": "stream",
          "text": [
            " 21%|██▏       | 323/1506 [27:32<1:43:07,  5.23s/it]"
          ]
        },
        {
          "name": "stdout",
          "output_type": "stream",
          "text": [
            "index 0 is out of bounds for axis 0 with size 0 AZZ earnings_date=pd.Timestamp\n"
          ]
        },
        {
          "name": "stderr",
          "output_type": "stream",
          "text": [
            " 22%|██▏       | 334/1506 [28:23<1:25:13,  4.36s/it]"
          ]
        },
        {
          "name": "stdout",
          "output_type": "stream",
          "text": [
            "index 0 is out of bounds for axis 0 with size 0 WT earnings_date=pd.Timestamp\n"
          ]
        },
        {
          "name": "stderr",
          "output_type": "stream",
          "text": [
            " 23%|██▎       | 341/1506 [29:09<2:24:08,  7.42s/it]ROST: Data doesn't exist for startDate = 1712635200, endDate = 1720497600\n",
            " 23%|██▎       | 342/1506 [29:16<2:20:38,  7.25s/it]"
          ]
        },
        {
          "name": "stdout",
          "output_type": "stream",
          "text": [
            "index -1 is out of bounds for axis 0 with size 0 ROST\n"
          ]
        },
        {
          "name": "stderr",
          "output_type": "stream",
          "text": [
            " 23%|██▎       | 353/1506 [30:13<1:29:09,  4.64s/it]"
          ]
        },
        {
          "name": "stdout",
          "output_type": "stream",
          "text": [
            "index 0 is out of bounds for axis 0 with size 0 HAFC earnings_date=pd.Timestamp\n",
            "index 0 is out of bounds for axis 0 with size 0 HAFC earnings_date=pd.Timestamp\n"
          ]
        },
        {
          "name": "stderr",
          "output_type": "stream",
          "text": [
            " 25%|██▌       | 382/1506 [32:39<1:30:02,  4.81s/it]"
          ]
        },
        {
          "name": "stdout",
          "output_type": "stream",
          "text": [
            "index 0 is out of bounds for axis 0 with size 0 BCO earnings_date=pd.Timestamp\n"
          ]
        },
        {
          "name": "stderr",
          "output_type": "stream",
          "text": [
            " 27%|██▋       | 406/1506 [34:49<1:13:53,  4.03s/it]"
          ]
        },
        {
          "name": "stdout",
          "output_type": "stream",
          "text": [
            "Error in getting earnings dates index 0 is out of bounds for axis 0 with size 0 MOG.A\n"
          ]
        },
        {
          "name": "stderr",
          "output_type": "stream",
          "text": [
            " 27%|██▋       | 411/1506 [35:13<1:21:24,  4.46s/it]"
          ]
        },
        {
          "name": "stdout",
          "output_type": "stream",
          "text": [
            "index 0 is out of bounds for axis 0 with size 0 UFPT earnings_date=pd.Timestamp\n",
            "index 0 is out of bounds for axis 0 with size 0 UFPT earnings_date=pd.Timestamp\n",
            "index 0 is out of bounds for axis 0 with size 0 UFPT earnings_date=pd.Timestamp\n",
            "index 0 is out of bounds for axis 0 with size 0 UFPT earnings_date=pd.Timestamp\n",
            "index 0 is out of bounds for axis 0 with size 0 UFPT earnings_date=pd.Timestamp\n"
          ]
        },
        {
          "name": "stderr",
          "output_type": "stream",
          "text": [
            " 29%|██▊       | 432/1506 [37:08<1:44:00,  5.81s/it]"
          ]
        },
        {
          "name": "stdout",
          "output_type": "stream",
          "text": [
            "The stock with ticker:ALTM has less than 8 periods reported\n"
          ]
        },
        {
          "name": "stderr",
          "output_type": "stream",
          "text": [
            " 30%|███       | 454/1506 [38:52<1:27:59,  5.02s/it]"
          ]
        },
        {
          "name": "stdout",
          "output_type": "stream",
          "text": [
            "index 0 is out of bounds for axis 0 with size 0 ASH earnings_date=pd.Timestamp\n"
          ]
        },
        {
          "name": "stderr",
          "output_type": "stream",
          "text": [
            " 32%|███▏      | 481/1506 [41:06<1:37:32,  5.71s/it]"
          ]
        },
        {
          "name": "stdout",
          "output_type": "stream",
          "text": [
            "index 0 is out of bounds for axis 0 with size 0 WMB earnings_date=pd.Timestamp\n"
          ]
        },
        {
          "name": "stderr",
          "output_type": "stream",
          "text": [
            " 32%|███▏      | 485/1506 [41:26<1:31:07,  5.36s/it]CRC: Data doesn't exist for startDate = 1585800000, endDate = 1593662400\n",
            "CRC: Data doesn't exist for startDate = 1589342400, endDate = 1597291200\n",
            " 33%|███▎      | 504/1506 [43:09<1:06:20,  3.97s/it]"
          ]
        },
        {
          "name": "stdout",
          "output_type": "stream",
          "text": [
            "Error in getting earnings dates index 0 is out of bounds for axis 0 with size 0 AMEH\n"
          ]
        },
        {
          "name": "stderr",
          "output_type": "stream",
          "text": [
            " 38%|███▊      | 570/1506 [48:24<1:16:31,  4.91s/it]"
          ]
        },
        {
          "name": "stdout",
          "output_type": "stream",
          "text": [
            "index 0 is out of bounds for axis 0 with size 0 SLG earnings_date=pd.Timestamp\n",
            "index 0 is out of bounds for axis 0 with size 0 SLG earnings_date=pd.Timestamp\n",
            "index 0 is out of bounds for axis 0 with size 0 SLG earnings_date=pd.Timestamp\n",
            "index 0 is out of bounds for axis 0 with size 0 SLG earnings_date=pd.Timestamp\n"
          ]
        },
        {
          "name": "stderr",
          "output_type": "stream",
          "text": [
            " 38%|███▊      | 578/1506 [49:05<1:20:26,  5.20s/it]"
          ]
        },
        {
          "name": "stdout",
          "output_type": "stream",
          "text": [
            "index 0 is out of bounds for axis 0 with size 0 KBR earnings_date=pd.Timestamp\n",
            "index 0 is out of bounds for axis 0 with size 0 KBR earnings_date=pd.Timestamp\n",
            "index 0 is out of bounds for axis 0 with size 0 KBR earnings_date=pd.Timestamp\n",
            "index 0 is out of bounds for axis 0 with size 0 KBR earnings_date=pd.Timestamp\n"
          ]
        },
        {
          "name": "stderr",
          "output_type": "stream",
          "text": [
            " 42%|████▏     | 639/1506 [54:02<1:14:27,  5.15s/it]"
          ]
        },
        {
          "name": "stdout",
          "output_type": "stream",
          "text": [
            "index 0 is out of bounds for axis 0 with size 0 IPG earnings_date=pd.Timestamp\n"
          ]
        },
        {
          "name": "stderr",
          "output_type": "stream",
          "text": [
            " 45%|████▌     | 683/1506 [57:32<59:25,  4.33s/it]  URBN: Data doesn't exist for startDate = 1712548800, endDate = 1720411200\n",
            " 45%|████▌     | 684/1506 [57:38<1:02:40,  4.57s/it]"
          ]
        },
        {
          "name": "stdout",
          "output_type": "stream",
          "text": [
            "index -1 is out of bounds for axis 0 with size 0 URBN\n"
          ]
        },
        {
          "name": "stderr",
          "output_type": "stream",
          "text": [
            "HTZ: Data doesn't exist for startDate = 1589688000, endDate = 1597636800\n",
            "HTZ: Data doesn't exist for startDate = 1597550400, endDate = 1605502800\n",
            "HTZ: Data doesn't exist for startDate = 1607144400, endDate = 1614920400\n",
            "HTZ: Data doesn't exist for startDate = 1613278800, endDate = 1620964800\n",
            " 46%|████▌     | 694/1506 [58:24<57:15,  4.23s/it]  OXM: Data doesn't exist for startDate = 1712548800, endDate = 1720411200\n",
            " 46%|████▌     | 695/1506 [58:30<1:06:01,  4.88s/it]"
          ]
        },
        {
          "name": "stdout",
          "output_type": "stream",
          "text": [
            "index -1 is out of bounds for axis 0 with size 0 OXM\n"
          ]
        },
        {
          "name": "stderr",
          "output_type": "stream",
          "text": [
            " 47%|████▋     | 713/1506 [59:57<1:05:54,  4.99s/it]"
          ]
        },
        {
          "name": "stdout",
          "output_type": "stream",
          "text": [
            "index 0 is out of bounds for axis 0 with size 0 FNF earnings_date=pd.Timestamp\n"
          ]
        },
        {
          "name": "stderr",
          "output_type": "stream",
          "text": [
            " 48%|████▊     | 730/1506 [1:01:19<1:06:47,  5.16s/it]PSTG: Data doesn't exist for startDate = 1712548800, endDate = 1720411200\n",
            " 49%|████▊     | 731/1506 [1:01:24<1:07:11,  5.20s/it]"
          ]
        },
        {
          "name": "stdout",
          "output_type": "stream",
          "text": [
            "index -1 is out of bounds for axis 0 with size 0 PSTG\n"
          ]
        },
        {
          "name": "stderr",
          "output_type": "stream",
          "text": [
            " 50%|█████     | 758/1506 [1:03:37<53:54,  4.32s/it]  "
          ]
        },
        {
          "name": "stdout",
          "output_type": "stream",
          "text": [
            "index 0 is out of bounds for axis 0 with size 0 SONO earnings_date=pd.Timestamp\n"
          ]
        },
        {
          "name": "stderr",
          "output_type": "stream",
          "text": [
            " 50%|█████     | 759/1506 [1:03:41<53:14,  4.28s/it]"
          ]
        },
        {
          "name": "stdout",
          "output_type": "stream",
          "text": [
            "index 0 is out of bounds for axis 0 with size 0 NEO earnings_date=pd.Timestamp\n"
          ]
        },
        {
          "name": "stderr",
          "output_type": "stream",
          "text": [
            " 51%|█████     | 761/1506 [1:03:50<53:04,  4.27s/it]"
          ]
        },
        {
          "name": "stdout",
          "output_type": "stream",
          "text": [
            "index 0 is out of bounds for axis 0 with size 0 JCI earnings_date=pd.Timestamp\n",
            "index 0 is out of bounds for axis 0 with size 0 JCI earnings_date=pd.Timestamp\n",
            "index 0 is out of bounds for axis 0 with size 0 JCI earnings_date=pd.Timestamp\n",
            "index 0 is out of bounds for axis 0 with size 0 JCI earnings_date=pd.Timestamp\n",
            "index 0 is out of bounds for axis 0 with size 0 JCI earnings_date=pd.Timestamp\n",
            "index 0 is out of bounds for axis 0 with size 0 JCI earnings_date=pd.Timestamp\n"
          ]
        },
        {
          "name": "stderr",
          "output_type": "stream",
          "text": [
            " 51%|█████     | 762/1506 [1:03:53<50:04,  4.04s/it]"
          ]
        },
        {
          "name": "stdout",
          "output_type": "stream",
          "text": [
            "index 0 is out of bounds for axis 0 with size 0 SAIC earnings_date=pd.Timestamp\n"
          ]
        },
        {
          "name": "stderr",
          "output_type": "stream",
          "text": [
            " 51%|█████     | 764/1506 [1:04:02<51:06,  4.13s/it]PVH: Data doesn't exist for startDate = 1712635200, endDate = 1720497600\n",
            " 51%|█████     | 765/1506 [1:04:09<1:01:27,  4.98s/it]"
          ]
        },
        {
          "name": "stdout",
          "output_type": "stream",
          "text": [
            "index -1 is out of bounds for axis 0 with size 0 PVH\n"
          ]
        },
        {
          "name": "stderr",
          "output_type": "stream",
          "text": [
            " 55%|█████▍    | 828/1506 [1:09:25<1:02:13,  5.51s/it]AYI: Data doesn't exist for startDate = 1712721600, endDate = 1720584000\n",
            " 55%|█████▌    | 829/1506 [1:09:32<1:07:10,  5.95s/it]"
          ]
        },
        {
          "name": "stdout",
          "output_type": "stream",
          "text": [
            "index -1 is out of bounds for axis 0 with size 0 AYI\n"
          ]
        },
        {
          "name": "stderr",
          "output_type": "stream",
          "text": [
            " 56%|█████▌    | 840/1506 [1:10:24<51:58,  4.68s/it]  "
          ]
        },
        {
          "name": "stdout",
          "output_type": "stream",
          "text": [
            "index 0 is out of bounds for axis 0 with size 0 CNK earnings_date=pd.Timestamp\n",
            "index 0 is out of bounds for axis 0 with size 0 CNK earnings_date=pd.Timestamp\n",
            "index 0 is out of bounds for axis 0 with size 0 CNK earnings_date=pd.Timestamp\n",
            "index 0 is out of bounds for axis 0 with size 0 CNK earnings_date=pd.Timestamp\n",
            "index 0 is out of bounds for axis 0 with size 0 CNK earnings_date=pd.Timestamp\n"
          ]
        },
        {
          "name": "stderr",
          "output_type": "stream",
          "text": [
            " 57%|█████▋    | 852/1506 [1:11:16<40:16,  3.69s/it]"
          ]
        },
        {
          "name": "stdout",
          "output_type": "stream",
          "text": [
            "Error in getting earnings dates Expecting value: line 1 column 1 (char 0) SOLV\n"
          ]
        },
        {
          "name": "stderr",
          "output_type": "stream",
          "text": [
            " 57%|█████▋    | 853/1506 [1:11:17<30:00,  2.76s/it]"
          ]
        },
        {
          "name": "stdout",
          "output_type": "stream",
          "text": [
            "Error in getting earnings dates Expecting value: line 1 column 1 (char 0) CADE\n"
          ]
        },
        {
          "name": "stderr",
          "output_type": "stream",
          "text": [
            " 57%|█████▋    | 861/1506 [1:11:55<49:00,  4.56s/it]"
          ]
        },
        {
          "name": "stdout",
          "output_type": "stream",
          "text": [
            "index 0 is out of bounds for axis 0 with size 0 AOSL earnings_date=pd.Timestamp\n",
            "index 0 is out of bounds for axis 0 with size 0 AOSL earnings_date=pd.Timestamp\n"
          ]
        },
        {
          "name": "stderr",
          "output_type": "stream",
          "text": [
            " 62%|██████▏   | 930/1506 [1:17:59<38:23,  4.00s/it]  "
          ]
        },
        {
          "name": "stdout",
          "output_type": "stream",
          "text": [
            "The stock with ticker:VSTS has less than 8 periods reported\n"
          ]
        },
        {
          "name": "stderr",
          "output_type": "stream",
          "text": [
            " 62%|██████▏   | 931/1506 [1:18:04<40:06,  4.18s/it]WFRD: Data doesn't exist for startDate = 1582002000, endDate = 1589774400\n",
            "WFRD: Data doesn't exist for startDate = 1590033600, endDate = 1597982400\n",
            "WFRD: Data doesn't exist for startDate = 1597118400, endDate = 1605070800\n",
            " 64%|██████▍   | 963/1506 [1:20:51<46:20,  5.12s/it]PAYX: Data doesn't exist for startDate = 1712635200, endDate = 1720497600\n",
            " 64%|██████▍   | 964/1506 [1:20:59<52:37,  5.83s/it]"
          ]
        },
        {
          "name": "stdout",
          "output_type": "stream",
          "text": [
            "index -1 is out of bounds for axis 0 with size 0 PAYX\n"
          ]
        },
        {
          "name": "stderr",
          "output_type": "stream",
          "text": [
            " 65%|██████▌   | 981/1506 [1:22:15<34:44,  3.97s/it]CAL: Data doesn't exist for startDate = 1712635200, endDate = 1720497600\n",
            " 65%|██████▌   | 982/1506 [1:22:21<40:33,  4.64s/it]"
          ]
        },
        {
          "name": "stdout",
          "output_type": "stream",
          "text": [
            "index -1 is out of bounds for axis 0 with size 0 CAL\n"
          ]
        },
        {
          "name": "stderr",
          "output_type": "stream",
          "text": [
            " 68%|██████▊   | 1023/1506 [1:25:51<42:10,  5.24s/it]"
          ]
        },
        {
          "name": "stdout",
          "output_type": "stream",
          "text": [
            "index 0 is out of bounds for axis 0 with size 0 SUPN earnings_date=pd.Timestamp\n"
          ]
        },
        {
          "name": "stderr",
          "output_type": "stream",
          "text": [
            " 68%|██████▊   | 1027/1506 [1:26:12<37:47,  4.73s/it]"
          ]
        },
        {
          "name": "stdout",
          "output_type": "stream",
          "text": [
            "The stock with ticker:VLTO has less than 8 periods reported\n"
          ]
        },
        {
          "name": "stderr",
          "output_type": "stream",
          "text": [
            " 68%|██████▊   | 1028/1506 [1:26:17<38:31,  4.84s/it]"
          ]
        },
        {
          "name": "stdout",
          "output_type": "stream",
          "text": [
            "index 0 is out of bounds for axis 0 with size 0 KIM earnings_date=pd.Timestamp\n",
            "index 0 is out of bounds for axis 0 with size 0 KIM earnings_date=pd.Timestamp\n",
            "index 0 is out of bounds for axis 0 with size 0 KIM earnings_date=pd.Timestamp\n"
          ]
        },
        {
          "name": "stderr",
          "output_type": "stream",
          "text": [
            " 76%|███████▋  | 1152/1506 [1:36:47<19:57,  3.38s/it]"
          ]
        },
        {
          "name": "stdout",
          "output_type": "stream",
          "text": [
            "Error in getting earnings dates Expecting value: line 1 column 1 (char 0) PFBC\n"
          ]
        },
        {
          "name": "stderr",
          "output_type": "stream",
          "text": [
            " 77%|███████▋  | 1166/1506 [1:37:51<18:48,  3.32s/it]"
          ]
        },
        {
          "name": "stdout",
          "output_type": "stream",
          "text": [
            "Error in getting earnings dates index 0 is out of bounds for axis 0 with size 0 LSCC \n"
          ]
        },
        {
          "name": "stderr",
          "output_type": "stream",
          "text": [
            " 78%|███████▊  | 1171/1506 [1:38:14<24:25,  4.37s/it]"
          ]
        },
        {
          "name": "stdout",
          "output_type": "stream",
          "text": [
            "index 0 is out of bounds for axis 0 with size 0 AWR earnings_date=pd.Timestamp\n"
          ]
        },
        {
          "name": "stderr",
          "output_type": "stream",
          "text": [
            " 78%|███████▊  | 1181/1506 [1:39:02<23:57,  4.42s/it]FDS: Data doesn't exist for startDate = 1712721600, endDate = 1720584000\n",
            " 78%|███████▊  | 1182/1506 [1:39:09<28:21,  5.25s/it]"
          ]
        },
        {
          "name": "stdout",
          "output_type": "stream",
          "text": [
            "index -1 is out of bounds for axis 0 with size 0 FDS\n"
          ]
        },
        {
          "name": "stderr",
          "output_type": "stream",
          "text": [
            " 83%|████████▎ | 1249/1506 [1:44:44<20:17,  4.74s/it]"
          ]
        },
        {
          "name": "stdout",
          "output_type": "stream",
          "text": [
            "index 0 is out of bounds for axis 0 with size 0 AMBC earnings_date=pd.Timestamp\n"
          ]
        },
        {
          "name": "stderr",
          "output_type": "stream",
          "text": [
            " 83%|████████▎ | 1252/1506 [1:44:58<20:08,  4.76s/it]VAL: Data doesn't exist for startDate = 1581051600, endDate = 1588824000\n",
            "VAL: Data doesn't exist for startDate = 1588737600, endDate = 1596686400\n",
            "VAL: Data doesn't exist for startDate = 1596600000, endDate = 1604552400\n",
            "VAL: Data doesn't exist for startDate = 1607490000, endDate = 1615266000\n",
            " 84%|████████▍ | 1265/1506 [1:46:11<21:16,  5.30s/it]AMR: Data doesn't exist for startDate = 1582002000, endDate = 1589774400\n",
            "AMR: Data doesn't exist for startDate = 1589428800, endDate = 1597377600\n",
            "AMR: Data doesn't exist for startDate = 1597550400, endDate = 1605502800\n",
            " 84%|████████▍ | 1270/1506 [1:46:34<17:37,  4.48s/it]PECO: No price data found, symbol may be delisted (1d 2020-02-19 00:00:00 -> 2020-05-19 00:00:00)\n",
            "PECO: No price data found, symbol may be delisted (1d 2020-05-20 00:00:00 -> 2020-08-20 00:00:00)\n",
            "PECO: No price data found, symbol may be delisted (1d 2020-08-16 00:00:00 -> 2020-11-16 00:00:00)\n",
            " 85%|████████▍ | 1275/1506 [1:46:58<18:16,  4.75s/it]PLAY: Data doesn't exist for startDate = 1712635200, endDate = 1720497600\n",
            " 85%|████████▍ | 1276/1506 [1:47:03<17:58,  4.69s/it]"
          ]
        },
        {
          "name": "stdout",
          "output_type": "stream",
          "text": [
            "index -1 is out of bounds for axis 0 with size 0 PLAY\n"
          ]
        },
        {
          "name": "stderr",
          "output_type": "stream",
          "text": [
            " 86%|████████▌ | 1291/1506 [1:48:16<15:15,  4.26s/it]FBRT: Data doesn't exist for startDate = 1582347600, endDate = 1590120000\n",
            "FBRT: Data doesn't exist for startDate = 1590033600, endDate = 1597982400\n",
            "FBRT: Data doesn't exist for startDate = 1597291200, endDate = 1605243600\n",
            "FBRT: Data doesn't exist for startDate = 1608267600, endDate = 1616040000\n",
            "FBRT: No price data found, symbol may be delisted (1d 2021-02-18 00:00:00 -> 2021-05-18 00:00:00)\n",
            "FBRT: No price data found, symbol may be delisted (1d 2021-05-19 00:00:00 -> 2021-08-19 00:00:00)\n",
            " 87%|████████▋ | 1312/1506 [1:50:05<15:42,  4.86s/it]"
          ]
        },
        {
          "name": "stdout",
          "output_type": "stream",
          "text": [
            "The stock with ticker:TKO has less than 8 periods reported\n"
          ]
        },
        {
          "name": "stderr",
          "output_type": "stream",
          "text": [
            " 87%|████████▋ | 1315/1506 [1:50:22<16:39,  5.24s/it]GES: Data doesn't exist for startDate = 1712548800, endDate = 1720411200\n",
            " 87%|████████▋ | 1316/1506 [1:50:29<17:57,  5.67s/it]"
          ]
        },
        {
          "name": "stdout",
          "output_type": "stream",
          "text": [
            "index -1 is out of bounds for axis 0 with size 0 GES\n"
          ]
        },
        {
          "name": "stderr",
          "output_type": "stream",
          "text": [
            " 89%|████████▉ | 1341/1506 [1:52:26<10:51,  3.95s/it]"
          ]
        },
        {
          "name": "stdout",
          "output_type": "stream",
          "text": [
            "The stock with ticker:WS has less than 8 periods reported\n"
          ]
        },
        {
          "name": "stderr",
          "output_type": "stream",
          "text": [
            " 90%|█████████ | 1360/1506 [1:53:55<07:33,  3.11s/it]"
          ]
        },
        {
          "name": "stdout",
          "output_type": "stream",
          "text": [
            "Error in getting earnings dates index 0 is out of bounds for axis 0 with size 0 TMST\n"
          ]
        },
        {
          "name": "stderr",
          "output_type": "stream",
          "text": [
            " 90%|█████████ | 1362/1506 [1:54:02<08:35,  3.58s/it]FYBR: Data doesn't exist for startDate = 1578373200, endDate = 1586232000\n",
            "FYBR: Data doesn't exist for startDate = 1589688000, endDate = 1597636800\n",
            "FYBR: Data doesn't exist for startDate = 1597118400, endDate = 1605070800\n",
            "FYBR: Data doesn't exist for startDate = 1607576400, endDate = 1615352400\n",
            " 91%|█████████ | 1364/1506 [1:54:16<11:44,  4.96s/it]"
          ]
        },
        {
          "name": "stdout",
          "output_type": "stream",
          "text": [
            "index 0 is out of bounds for axis 0 with size 0 ANF earnings_date=pd.Timestamp\n",
            "index 0 is out of bounds for axis 0 with size 0 ANF earnings_date=pd.Timestamp\n",
            "index 0 is out of bounds for axis 0 with size 0 ANF earnings_date=pd.Timestamp\n",
            "index 0 is out of bounds for axis 0 with size 0 ANF earnings_date=pd.Timestamp\n"
          ]
        },
        {
          "name": "stderr",
          "output_type": "stream",
          "text": [
            " 91%|█████████ | 1373/1506 [1:55:02<09:56,  4.49s/it]"
          ]
        },
        {
          "name": "stdout",
          "output_type": "stream",
          "text": [
            "index 0 is out of bounds for axis 0 with size 0 JLL earnings_date=pd.Timestamp\n"
          ]
        },
        {
          "name": "stderr",
          "output_type": "stream",
          "text": [
            " 93%|█████████▎| 1399/1506 [1:57:02<06:26,  3.61s/it]"
          ]
        },
        {
          "name": "stdout",
          "output_type": "stream",
          "text": [
            "Error in getting earnings dates index 0 is out of bounds for axis 0 with size 0 BF.B\n"
          ]
        },
        {
          "name": "stderr",
          "output_type": "stream",
          "text": [
            " 93%|█████████▎| 1406/1506 [1:57:33<07:34,  4.55s/it]"
          ]
        },
        {
          "name": "stdout",
          "output_type": "stream",
          "text": [
            "index 0 is out of bounds for axis 0 with size 0 SAFE earnings_date=pd.Timestamp\n",
            "index 0 is out of bounds for axis 0 with size 0 SAFE earnings_date=pd.Timestamp\n",
            "index 0 is out of bounds for axis 0 with size 0 SAFE earnings_date=pd.Timestamp\n",
            "index 0 is out of bounds for axis 0 with size 0 SAFE earnings_date=pd.Timestamp\n"
          ]
        },
        {
          "name": "stderr",
          "output_type": "stream",
          "text": [
            " 94%|█████████▍| 1412/1506 [1:58:02<07:05,  4.52s/it]"
          ]
        },
        {
          "name": "stdout",
          "output_type": "stream",
          "text": [
            "index 0 is out of bounds for axis 0 with size 0 BSX earnings_date=pd.Timestamp\n"
          ]
        },
        {
          "name": "stderr",
          "output_type": "stream",
          "text": [
            " 96%|█████████▌| 1443/1506 [2:00:32<04:59,  4.75s/it]DRI: Data doesn't exist for startDate = 1712635200, endDate = 1720497600\n",
            " 96%|█████████▌| 1444/1506 [2:00:39<05:40,  5.50s/it]"
          ]
        },
        {
          "name": "stdout",
          "output_type": "stream",
          "text": [
            "index -1 is out of bounds for axis 0 with size 0 DRI\n"
          ]
        },
        {
          "name": "stderr",
          "output_type": "stream",
          "text": [
            " 99%|█████████▉| 1495/1506 [2:04:40<00:52,  4.81s/it]"
          ]
        },
        {
          "name": "stdout",
          "output_type": "stream",
          "text": [
            "index 0 is out of bounds for axis 0 with size 0 PEP earnings_date=pd.Timestamp\n",
            "index 0 is out of bounds for axis 0 with size 0 PEP earnings_date=pd.Timestamp\n",
            "index 0 is out of bounds for axis 0 with size 0 PEP earnings_date=pd.Timestamp\n",
            "index 0 is out of bounds for axis 0 with size 0 PEP earnings_date=pd.Timestamp\n",
            "index 0 is out of bounds for axis 0 with size 0 PEP earnings_date=pd.Timestamp\n",
            "index 0 is out of bounds for axis 0 with size 0 PEP earnings_date=pd.Timestamp\n",
            "index 0 is out of bounds for axis 0 with size 0 PEP earnings_date=pd.Timestamp\n",
            "index 0 is out of bounds for axis 0 with size 0 PEP earnings_date=pd.Timestamp\n",
            "index 0 is out of bounds for axis 0 with size 0 PEP earnings_date=pd.Timestamp\n"
          ]
        },
        {
          "name": "stderr",
          "output_type": "stream",
          "text": [
            "100%|█████████▉| 1499/1506 [2:04:56<00:29,  4.22s/it]"
          ]
        },
        {
          "name": "stdout",
          "output_type": "stream",
          "text": [
            "index 0 is out of bounds for axis 0 with size 0 HSII earnings_date=pd.Timestamp\n",
            "index 0 is out of bounds for axis 0 with size 0 HSII earnings_date=pd.Timestamp\n",
            "index 0 is out of bounds for axis 0 with size 0 HSII earnings_date=pd.Timestamp\n",
            "index 0 is out of bounds for axis 0 with size 0 HSII earnings_date=pd.Timestamp\n"
          ]
        },
        {
          "name": "stderr",
          "output_type": "stream",
          "text": [
            "100%|██████████| 1506/1506 [2:05:31<00:00,  5.00s/it]\n"
          ]
        }
      ],
      "source": [
        "from datetime import date\n",
        "today = date.today()\n",
        "\n",
        "today_str = today.strftime(\"%Y-%m-%d\")\n",
        "meta_df = get_meta_data(stock_symbols=stock_symbols, stocks=stocks)\n",
        "meta_df.to_csv(f'meta_df_{today_str}.csv', index=False)"
      ]
    },
    {
      "cell_type": "code",
      "execution_count": 25,
      "metadata": {
        "id": "bfffIMP9vffk"
      },
      "outputs": [],
      "source": [
        "from datetime import date\n",
        "# today = date.today()\n",
        "\n",
        "# today_str = today.strftime(\"%Y-%m-%d\")\n",
        "meta_df = pd.read_csv(f'meta_df_{today_str}.csv')\n",
        "meta_df.end_of_quarter = pd.to_datetime(meta_df.end_of_quarter)\n",
        "stocks.reset_index(inplace=True, drop=True)\n",
        "df = pd.merge(stocks, meta_df, how='left', on=['ticker', 'end_of_quarter'])"
      ]
    },
    {
      "cell_type": "code",
      "execution_count": 26,
      "metadata": {
        "colab": {
          "background_save": true
        },
        "id": "Cnjys0s7GT90"
      },
      "outputs": [],
      "source": [
        "df.to_csv(f'stocks_processed_{today_str}.csv', index=False)"
      ]
    },
    {
      "cell_type": "code",
      "execution_count": 11,
      "metadata": {},
      "outputs": [],
      "source": [
        "df = pd.read_csv(f'stocks_processed_{today_str}.csv')"
      ]
    },
    {
      "cell_type": "code",
      "execution_count": 16,
      "metadata": {},
      "outputs": [
        {
          "name": "stdout",
          "output_type": "stream",
          "text": [
            "######################\n"
          ]
        }
      ],
      "source": [
        "from IPython.display import display, HTML\n",
        "from datetime import date\n",
        "import pickle\n",
        "\n",
        "today = date.today()\n",
        "\n",
        "today_str = today.strftime(\"%Y-%m-%d\")\n",
        "quartals = [today_str] # replace with today_str]\n",
        "prediction_date = today_str #  replace with today_str\n",
        "accuracies = {}\n",
        "all_columns = ['Cash Growth', 'Debt Growth','Net Cash / Debt','Net Cash / Debt Growth','Net Cash Per Share','Book Value Per Share','Operating Cash Flow Growth',\n",
        "                    'Share Issuance / Repurchase','Debt Issued / Paid','Free Cash Flow Growth','Free Cash Flow Margin','Free Cash Flow Per Share','Revenue Growth (YoY)',\n",
        "                    'Interest Expense / Income','Other Expense / Income','Net Income Growth','Shares Change','EPS Growth','Free Cash Flow Per Share.1','Dividend Per Share',\n",
        "                    'Dividend Growth','Gross Margin','Operating Margin','Profit Margin','Free Cash Flow Margin.1','Effective Tax Rate','EBITDA Margin','EBIT Margin',\n",
        "                    'Market Cap Growth','PE Ratio','PS Ratio','PB Ratio','P/FCF Ratio','P/OCF Ratio','Debt / Equity Ratio','Quick Ratio','Current Ratio',\n",
        "                    'Return on Capital (ROIC)','Dividend Yield','Payout Ratio','Buyback Yield / Dilution','Total Shareholder Return','ticker','Return on Equity (ROE)',\n",
        "                    'Return on Assets (ROA)','Earnings Yield','FCF Yield','end_of_quarter','industry','sector','increase']\n",
        "lag_columns = ['Cash Growth', 'Debt Growth','Net Cash / Debt','Net Cash / Debt Growth','Net Cash Per Share','Book Value Per Share','Operating Cash Flow Growth',\n",
        "                    'Share Issuance / Repurchase','Debt Issued / Paid','Free Cash Flow Growth','Free Cash Flow Margin','Free Cash Flow Per Share','Revenue Growth (YoY)',\n",
        "                    'Interest Expense / Income','Other Expense / Income','Net Income Growth','Shares Change','EPS Growth','Free Cash Flow Per Share.1','Dividend Per Share',\n",
        "                    'Dividend Growth','Gross Margin','Operating Margin','Profit Margin','Free Cash Flow Margin.1','Effective Tax Rate','EBITDA Margin','EBIT Margin',\n",
        "                    'Market Cap Growth','PE Ratio','PS Ratio','PB Ratio','P/FCF Ratio','P/OCF Ratio','Debt / Equity Ratio','Quick Ratio','Current Ratio',\n",
        "                    'Return on Capital (ROIC)','Dividend Yield','Payout Ratio','Buyback Yield / Dilution','Total Shareholder Return','Return on Equity (ROE)',\n",
        "                    'Return on Assets (ROA)','Earnings Yield','FCF Yield']\n",
        "for quartal in range(0, len(quartals)):\n",
        "    df = pd.read_csv(f'stocks_processed_{today_str}.csv') # replace with todays date\n",
        "    tmp = df['end_of_quarter'].copy()\n",
        "    for col in list(df.columns):\n",
        "        try:\n",
        "            df.loc[:, col] = df.loc[:, col].str.replace(',', '').replace(r'^-$', np.nan, regex=True)\n",
        "        except:\n",
        "            pass\n",
        "    # all percentage columns, remove the percent sign\n",
        "    percentage_columns = [col for col in df.columns if any(df[col].astype(str).str.contains('%'))]\n",
        "    for col in percentage_columns:\n",
        "        df.loc[:, col] = df.loc[:, col].str.replace('%', '')\n",
        "    df['end_of_quarter'] = tmp\n",
        "    # selecting only numerical features, we need them for normalization, etc. 'increase' is also a numerical, but we dont modify it since it is our target\n",
        "    numerical_columns = extract_numerical_columns(df)\n",
        "    # we take all data since 2021 (we skip earlier years due covid effects) \n",
        "    df['end_of_quarter'] = pd.to_datetime(df['end_of_quarter'])\n",
        "    df['end_of_quarter'] = pd.to_datetime(df['end_of_quarter'])\n",
        "    df['quarter_year'] = df['end_of_quarter'].dt.to_period('Q')\n",
        "    # converting all numerical values from string to float\n",
        "    df[numerical_columns] = df[numerical_columns].astype('float')\n",
        "    _CALCULATED = 'calculated'\n",
        "    # avoid inf, add 10e-5\n",
        "    df[f'{_CALCULATED}Earnings Yield'] = 1 / (df['PE Ratio'].astype('float') + 10e-5)\n",
        "    df[f'{_CALCULATED}Share Price'] = df['PE Ratio'].astype('float') * df['EPS (Basic)'].astype('float')\n",
        "    df[f'{_CALCULATED}FCF Yield'] = df['Free Cash Flow Per Share'].astype('float')/ (df[f'{_CALCULATED}Share Price'].astype('float') + 10e-5)\n",
        "    df[f'{_CALCULATED}DPS'] = -1* df[ 'Dividends Paid'].astype('float') / (df['Shares Outstanding (Basic)'].astype('float') + 10e-5)\n",
        "    df[f'{_CALCULATED}Dividents'] = df[f'{_CALCULATED}DPS'].astype('float') * df['Shares Outstanding (Basic)'].astype('float')\n",
        "    # Liquidity Ratios\n",
        "    df[f'{_CALCULATED}current_ratio'] = df['Total Current Assets'] /(df['Total Current Liabilities']+ 10e-5)\n",
        "    df[f'{_CALCULATED}quick_ratio'] = (df['Cash & Equivalents'] + df['Short-Term Investments'] + df['Receivables']) / (df['Total Current Liabilities']+ 10e-5)\n",
        "    df[f'{_CALCULATED}cash_ratio'] = (df['Cash & Equivalents'] + df['Short-Term Investments']) / (df['Total Current Liabilities']+ 10e-5)\n",
        "    df[f'{_CALCULATED}operating_profit_margin'] = (df['Operating Income'] / (df['Revenue']+ 10e-5)) * 100\n",
        "    df[f'{_CALCULATED}inventory_turnover'] = df['Cost of Revenue'] / (df['Inventory']+ 10e-5)\n",
        "    df[f'{_CALCULATED}accounts_receivable_turnover'] = df['Revenue'] / (df['Receivables']+ 10e-5)\n",
        "    calculated_feats = [x for x in df.columns if _CALCULATED in x]\n",
        "    for c in lag_columns + calculated_feats:\n",
        "        df[c+'_lag1'] = df.groupby('ticker')[c].shift(-1)\n",
        "        df[c+'_lag2'] = df.groupby('ticker')[c].shift(-2)\n",
        "        df[c+'_lag3'] = df.groupby('ticker')[c].shift(-3)\n",
        "        df[c+'_lag4'] = df.groupby('ticker')[c].shift(-4)\n",
        "        df[c+\"_c1\"] = (df[c] - df[c+'_lag1']) / (df[c+'_lag1'] + 1e-3)\n",
        "        df[c+\"_c2\"] = (df[c] - df[c+'_lag2']) / (df[c+'_lag2'] + 1e-3)\n",
        "        df[c+\"_c3\"] = (df[c] - df[c+'_lag3']) / (df[c+'_lag3'] + 1e-3)\n",
        "        df[c+\"_c4\"] = (df[c] - df[c+'_lag4']) / (df[c+'_lag4'] + 1e-3)\n",
        " \n",
        "    df = df.loc[(df.end_of_quarter > (pd.to_datetime(quartals[quartal]) - pd.DateOffset(months=18))) &(df.end_of_quarter < pd.to_datetime(quartals[quartal]))].reset_index(drop=True)\n",
        "    # Mean normalization of all numerical values. As suggested by finance experts, we take the mean and the standard deviation of the industry per quarter for normalization\n",
        "    numerical_columns.remove('increase') # removing the target variable, we dont want to normalize that value\n",
        "    tmp = df[['increase']]\n",
        "    df.drop(['increase'], axis=1, inplace=True)\n",
        "    df_mean = df.groupby(['quarter_year', 'industry']).mean()\n",
        "    df_std = df.groupby(['quarter_year', 'industry']).std()\n",
        "    dff = pd.merge(left=df, right=df_mean, how='left', on=['quarter_year', 'industry'], suffixes=[\"\", \"_mean\"])\n",
        "    dff = pd.merge(left=dff, right=df_std, how='left', on=['quarter_year', 'industry'], suffixes=[\"\", \"_std\"])\n",
        "    dff = pd.concat([dff, tmp], axis=1)\n",
        "    ########################\n",
        "    for col in numerical_columns:\n",
        "        # dff[col+\"_norm\"] = (dff[col] - dff[col + \"_mean\"]) / (dff[col + \"_std\"] + 1e-3)\n",
        "        pass\n",
        "    ########################\n",
        "    df = dff\n",
        "    df['increase'] = tmp\n",
        "\n",
        "    # One hot encoding of industry, we skip encoding of sector since we have almost all NaNs there\n",
        "    one_hot_encoded_industry = pd.get_dummies(df['industry'], prefix='industry')\n",
        "    df = pd.concat([df, one_hot_encoded_industry], axis=1)\n",
        "    industry = df[['ticker', 'industry', 'end_of_quarter_release']]\n",
        "    df.drop(['industry', 'sector'], axis=1, inplace=True)\n",
        "    \n",
        "    df_to_predict = df.loc[df.end_of_quarter_release == today_str]\n",
        "    df_to_predict.to_csv(f'df_to_predict{today_str}.csv', index=False)\n",
        "    # df['increase_two_q'].fillna(0, inplace=True)\n",
        "    # where target variable 'increase' does not exists, remove those rows\n",
        "    df.dropna(axis=0, inplace=True, subset=['increase'])\n",
        "    # train test split (we leave the last quarter for test)\n",
        "    industry = industry.loc[industry.end_of_quarter_release == today_str].reset_index()\n",
        "    df_train = df\n",
        "    y_train = df_train[['increase', 'ticker', 'end_of_quarter_release', 'end_of_quarter']]\n",
        "    df_train = df_train.drop(['ticker', 'end_of_quarter', 'end_of_quarter_release', 'increase',  'quarter_year'], axis=1)\n",
        "    # going from real valued 'increase' to classification problem\n",
        "    y_train['increase_real_values'] = y_train.increase\n",
        "    class_thresholds = [-0.1, 0.0, 0.1, 0.2]\n",
        "    y_train.increase[y_train.increase_real_values >= class_thresholds[3]] = 4\n",
        "    y_train.increase[(y_train.increase_real_values >= class_thresholds[2]) & (y_train.increase_real_values < class_thresholds[3])] = 3\n",
        "    y_train.increase[(y_train.increase_real_values >= class_thresholds[1]) & (y_train.increase_real_values < class_thresholds[2])] = 2\n",
        "    y_train.increase[(y_train.increase_real_values > class_thresholds[0]) & (y_train.increase_real_values < class_thresholds[1])] = 1\n",
        "    y_train.increase[y_train.increase_real_values <= class_thresholds[0]] = 0\n",
        "    # We fill all NaN values with maxint from numpy. Currently, we are not sure if this is financially correct (?)\n",
        "    df_train.fillna(np.iinfo('int').max, inplace=True)\n",
        "    # Assuming you have your features (x) and labels (y) ready, split the data.\n",
        "    X_train, X_test, Y_train, Y_test = train_test_split(df_train, y_train, test_size=0.1, random_state=42)\n",
        "    # We fit a classifier to predict the increase in percentage into the next Q\n",
        "    rf_classifier = RandomForestClassifier(n_estimators=1, random_state=42, max_depth=50)#, class_weight=class_weights)\n",
        "    # Fit the model to the training data\n",
        "    rf_classifier.fit(X_train, Y_train.increase)\n",
        "    # Predict on the test set just as sanity check\n",
        "    rf_classifier.predict(X_test)\n",
        "    ticker = Y_test.ticker\n",
        "    p = pd.DataFrame({\"ticker\": ticker, \"preds\": rf_classifier.predict(X_test), \"true\": Y_test.increase, \"increase\": Y_test.increase_real_values})\n",
        "    # Select the top K stocks that we would invest (still this data is older, just for sanity check and to check for underfitting)\n",
        "    accuracy = accuracy_score(p.true, p.preds)\n",
        "    with open(f'model_{today_str}.pickle', 'wb') as handle:\n",
        "        pickle.dump(rf_classifier, handle, protocol=pickle.HIGHEST_PROTOCOL)\n",
        "    print(\"######################\")\n"
      ]
    },
    {
      "cell_type": "code",
      "execution_count": 20,
      "metadata": {},
      "outputs": [
        {
          "name": "stdout",
          "output_type": "stream",
          "text": [
            "All stocks with max prediction\n"
          ]
        },
        {
          "data": {
            "text/html": [
              "<div>\n",
              "<style scoped>\n",
              "    .dataframe tbody tr th:only-of-type {\n",
              "        vertical-align: middle;\n",
              "    }\n",
              "\n",
              "    .dataframe tbody tr th {\n",
              "        vertical-align: top;\n",
              "    }\n",
              "\n",
              "    .dataframe thead th {\n",
              "        text-align: right;\n",
              "    }\n",
              "</style>\n",
              "<table border=\"1\" class=\"dataframe\">\n",
              "  <thead>\n",
              "    <tr style=\"text-align: right;\">\n",
              "      <th></th>\n",
              "      <th>ticker</th>\n",
              "      <th>end_of_quarter_release</th>\n",
              "      <th>preds</th>\n",
              "      <th>proba</th>\n",
              "      <th>industry</th>\n",
              "    </tr>\n",
              "  </thead>\n",
              "  <tbody>\n",
              "    <tr>\n",
              "      <th>0</th>\n",
              "      <td>DKS</td>\n",
              "      <td>2024-04-04</td>\n",
              "      <td>4.0</td>\n",
              "      <td>1.0</td>\n",
              "      <td>Specialty Retail</td>\n",
              "    </tr>\n",
              "  </tbody>\n",
              "</table>\n",
              "</div>"
            ],
            "text/plain": [
              "  ticker end_of_quarter_release  preds  proba          industry\n",
              "0    DKS             2024-04-04    4.0    1.0  Specialty Retail"
            ]
          },
          "metadata": {},
          "output_type": "display_data"
        },
        {
          "name": "stdout",
          "output_type": "stream",
          "text": [
            "All stocks today\n"
          ]
        },
        {
          "data": {
            "text/html": [
              "<div>\n",
              "<style scoped>\n",
              "    .dataframe tbody tr th:only-of-type {\n",
              "        vertical-align: middle;\n",
              "    }\n",
              "\n",
              "    .dataframe tbody tr th {\n",
              "        vertical-align: top;\n",
              "    }\n",
              "\n",
              "    .dataframe thead th {\n",
              "        text-align: right;\n",
              "    }\n",
              "</style>\n",
              "<table border=\"1\" class=\"dataframe\">\n",
              "  <thead>\n",
              "    <tr style=\"text-align: right;\">\n",
              "      <th></th>\n",
              "      <th>ticker</th>\n",
              "      <th>end_of_quarter_release</th>\n",
              "      <th>preds</th>\n",
              "      <th>industry</th>\n",
              "    </tr>\n",
              "  </thead>\n",
              "  <tbody>\n",
              "    <tr>\n",
              "      <th>0</th>\n",
              "      <td>SMTC</td>\n",
              "      <td>2024-04-04</td>\n",
              "      <td>0.0</td>\n",
              "      <td>Semiconductors</td>\n",
              "    </tr>\n",
              "    <tr>\n",
              "      <th>1</th>\n",
              "      <td>FL</td>\n",
              "      <td>2024-04-04</td>\n",
              "      <td>0.0</td>\n",
              "      <td>Apparel Retail</td>\n",
              "    </tr>\n",
              "    <tr>\n",
              "      <th>2</th>\n",
              "      <td>RH</td>\n",
              "      <td>2024-04-04</td>\n",
              "      <td>1.0</td>\n",
              "      <td>Specialty Retail</td>\n",
              "    </tr>\n",
              "    <tr>\n",
              "      <th>3</th>\n",
              "      <td>DKS</td>\n",
              "      <td>2024-04-04</td>\n",
              "      <td>4.0</td>\n",
              "      <td>Specialty Retail</td>\n",
              "    </tr>\n",
              "    <tr>\n",
              "      <th>4</th>\n",
              "      <td>WBA</td>\n",
              "      <td>2024-04-04</td>\n",
              "      <td>1.0</td>\n",
              "      <td>Pharmaceutical Retailers</td>\n",
              "    </tr>\n",
              "    <tr>\n",
              "      <th>5</th>\n",
              "      <td>MSM</td>\n",
              "      <td>2024-04-04</td>\n",
              "      <td>0.0</td>\n",
              "      <td>Industrial Distribution</td>\n",
              "    </tr>\n",
              "    <tr>\n",
              "      <th>6</th>\n",
              "      <td>FUL</td>\n",
              "      <td>2024-04-04</td>\n",
              "      <td>1.0</td>\n",
              "      <td>Specialty Chemicals</td>\n",
              "    </tr>\n",
              "  </tbody>\n",
              "</table>\n",
              "</div>"
            ],
            "text/plain": [
              "  ticker end_of_quarter_release  preds                  industry\n",
              "0   SMTC             2024-04-04    0.0            Semiconductors\n",
              "1     FL             2024-04-04    0.0            Apparel Retail\n",
              "2     RH             2024-04-04    1.0          Specialty Retail\n",
              "3    DKS             2024-04-04    4.0          Specialty Retail\n",
              "4    WBA             2024-04-04    1.0  Pharmaceutical Retailers\n",
              "5    MSM             2024-04-04    0.0   Industrial Distribution\n",
              "6    FUL             2024-04-04    1.0       Specialty Chemicals"
            ]
          },
          "metadata": {},
          "output_type": "display_data"
        }
      ],
      "source": [
        "# TO INVEST IN THE NEXT QUARTER\n",
        "df_to_predict = pd.read_csv(f'df_to_predict{today_str}.csv')\n",
        "with open(f'model_{today_str}.pickle', 'rb') as handle:\n",
        "    rf_classifier = pickle.load(handle)\n",
        "df_test_tmp = df_to_predict\n",
        "y_to_predict = df_to_predict[['ticker', 'end_of_quarter', 'end_of_quarter_release']]\n",
        "df_to_predict = df_to_predict.drop(['ticker', 'end_of_quarter', 'end_of_quarter_release', 'quarter_year', 'increase'], axis=1)\n",
        "\n",
        "df_to_predict.fillna(np.iinfo('int').max, inplace=True)\n",
        "\n",
        "proba = rf_classifier.predict_proba(df_to_predict)[rf_classifier.predict(df_to_predict)== np.max(rf_classifier.predict(df_to_predict))]\n",
        "# predicting on the SNP 500 stocks\n",
        "p = pd.DataFrame({\"ticker\": y_to_predict.ticker, \"end_of_quarter_release\": y_to_predict.end_of_quarter_release, \"preds\": rf_classifier.predict(df_to_predict)})\n",
        "# selecting the top K stocks we want to put money in\n",
        "p[p.preds == np.max(p.preds.values)]\n",
        "b = p[p.preds == np.max(p.preds.values)]\n",
        "b['proba'] = proba[:, int(np.max(p.preds.values))]\n",
        "b = pd.merge(left=b, right=industry[['ticker','industry']], on=['ticker'])\n",
        "\n",
        "print(\"All stocks with max prediction\")\n",
        "display(b.sort_values(by=\"proba\")[::-1].iloc[:15])\n",
        "\n",
        "print(\"All stocks today\")\n",
        "display(pd.merge(left=p, right=industry[['ticker','industry']], on='ticker'))\n"
      ]
    },
    {
      "cell_type": "code",
      "execution_count": null,
      "metadata": {},
      "outputs": [],
      "source": []
    }
  ],
  "metadata": {
    "colab": {
      "provenance": []
    },
    "kernelspec": {
      "display_name": "Python 3",
      "name": "python3"
    },
    "language_info": {
      "codemirror_mode": {
        "name": "ipython",
        "version": 3
      },
      "file_extension": ".py",
      "mimetype": "text/x-python",
      "name": "python",
      "nbconvert_exporter": "python",
      "pygments_lexer": "ipython3",
      "version": "3.11.7"
    }
  },
  "nbformat": 4,
  "nbformat_minor": 0
}

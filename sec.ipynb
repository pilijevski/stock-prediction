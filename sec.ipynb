{
 "cells": [
  {
   "cell_type": "code",
   "execution_count": 2,
   "metadata": {},
   "outputs": [],
   "source": [
    "import requests\n",
    "import pandas as pd\n",
    "\n",
    "# create request header\n",
    "headers = {'User-Agent': \"email@address.com\"}\n",
    "\n",
    "\n"
   ]
  },
  {
   "cell_type": "markdown",
   "metadata": {},
   "source": [
    "### Get company tickers"
   ]
  },
  {
   "cell_type": "code",
   "execution_count": 4,
   "metadata": {},
   "outputs": [
    {
     "data": {
      "text/html": [
       "<div>\n",
       "<style scoped>\n",
       "    .dataframe tbody tr th:only-of-type {\n",
       "        vertical-align: middle;\n",
       "    }\n",
       "\n",
       "    .dataframe tbody tr th {\n",
       "        vertical-align: top;\n",
       "    }\n",
       "\n",
       "    .dataframe thead th {\n",
       "        text-align: right;\n",
       "    }\n",
       "</style>\n",
       "<table border=\"1\" class=\"dataframe\">\n",
       "  <thead>\n",
       "    <tr style=\"text-align: right;\">\n",
       "      <th></th>\n",
       "      <th>ticker</th>\n",
       "      <th>title</th>\n",
       "    </tr>\n",
       "    <tr>\n",
       "      <th>cik_str</th>\n",
       "      <th></th>\n",
       "      <th></th>\n",
       "    </tr>\n",
       "  </thead>\n",
       "  <tbody>\n",
       "    <tr>\n",
       "      <th>789019</th>\n",
       "      <td>MSFT</td>\n",
       "      <td>MICROSOFT CORP</td>\n",
       "    </tr>\n",
       "    <tr>\n",
       "      <th>320193</th>\n",
       "      <td>AAPL</td>\n",
       "      <td>Apple Inc.</td>\n",
       "    </tr>\n",
       "    <tr>\n",
       "      <th>1045810</th>\n",
       "      <td>NVDA</td>\n",
       "      <td>NVIDIA CORP</td>\n",
       "    </tr>\n",
       "    <tr>\n",
       "      <th>1018724</th>\n",
       "      <td>AMZN</td>\n",
       "      <td>AMAZON COM INC</td>\n",
       "    </tr>\n",
       "    <tr>\n",
       "      <th>1652044</th>\n",
       "      <td>GOOGL</td>\n",
       "      <td>Alphabet Inc.</td>\n",
       "    </tr>\n",
       "    <tr>\n",
       "      <th>...</th>\n",
       "      <td>...</td>\n",
       "      <td>...</td>\n",
       "    </tr>\n",
       "    <tr>\n",
       "      <th>1901336</th>\n",
       "      <td>ALCYW</td>\n",
       "      <td>Alchemy Investments Acquisition Corp 1</td>\n",
       "    </tr>\n",
       "    <tr>\n",
       "      <th>1901336</th>\n",
       "      <td>ALCYU</td>\n",
       "      <td>Alchemy Investments Acquisition Corp 1</td>\n",
       "    </tr>\n",
       "    <tr>\n",
       "      <th>1977303</th>\n",
       "      <td>ARLTF</td>\n",
       "      <td>Arcadium Lithium plc</td>\n",
       "    </tr>\n",
       "    <tr>\n",
       "      <th>1974044</th>\n",
       "      <td>MNYWW</td>\n",
       "      <td>MoneyHero Ltd</td>\n",
       "    </tr>\n",
       "    <tr>\n",
       "      <th>1998781</th>\n",
       "      <td>IBACU</td>\n",
       "      <td>IB Acquisition Corp.</td>\n",
       "    </tr>\n",
       "  </tbody>\n",
       "</table>\n",
       "<p>10431 rows × 2 columns</p>\n",
       "</div>"
      ],
      "text/plain": [
       "        ticker                                   title\n",
       "cik_str                                               \n",
       "789019    MSFT                          MICROSOFT CORP\n",
       "320193    AAPL                              Apple Inc.\n",
       "1045810   NVDA                             NVIDIA CORP\n",
       "1018724   AMZN                          AMAZON COM INC\n",
       "1652044  GOOGL                           Alphabet Inc.\n",
       "...        ...                                     ...\n",
       "1901336  ALCYW  Alchemy Investments Acquisition Corp 1\n",
       "1901336  ALCYU  Alchemy Investments Acquisition Corp 1\n",
       "1977303  ARLTF                    Arcadium Lithium plc\n",
       "1974044  MNYWW                           MoneyHero Ltd\n",
       "1998781  IBACU                    IB Acquisition Corp.\n",
       "\n",
       "[10431 rows x 2 columns]"
      ]
     },
     "execution_count": 4,
     "metadata": {},
     "output_type": "execute_result"
    }
   ],
   "source": [
    "# get all companies data\n",
    "companyTickers = requests.get(\n",
    "    \"https://www.sec.gov/files/company_tickers.json\",\n",
    "    headers=headers\n",
    "    )\n",
    "company_tickers = pd.DataFrame(companyTickers.json()).T.set_index(\"cik_str\")\n",
    "company_tickers\n"
   ]
  },
  {
   "cell_type": "code",
   "execution_count": 20,
   "metadata": {},
   "outputs": [],
   "source": [
    "ticker = \"AAPL\"\n",
    "\n",
    "cik_id = str(company_tickers[company_tickers[\"ticker\"] == ticker].index[0])\n",
    "\n",
    "cik_str=str(cik_id).zfill(10) # we use zfill since the company number must be 10 digits long\n",
    "\n",
    "companyFacts = requests.get(\n",
    "    f'https://data.sec.gov/api/xbrl/companyfacts/CIK{cik}.json',\n",
    "    headers=headers\n",
    "    )\n",
    "\n",
    "dfs = []\n",
    "for k in companyFacts.json()[\"facts\"][\"us-gaap\"].keys():\n",
    "    df = pd.DataFrame(companyFacts.json()[\"facts\"][\"us-gaap\"][\"AccountsPayableCurrent\"][\"units\"][\"USD\"]).set_index(\"filed\")\n",
    "    df.index =  pd.to_datetime(df.index)\n",
    "    df[\"fact\"]=k   \n",
    "    dfs.append(df)\n",
    "\n",
    "company_facts = pd.concat(dfs)\n",
    "\n"
   ]
  },
  {
   "cell_type": "code",
   "execution_count": 18,
   "metadata": {},
   "outputs": [
    {
     "data": {
      "text/plain": [
       "'%10d'"
      ]
     },
     "execution_count": 18,
     "metadata": {},
     "output_type": "execute_result"
    }
   ],
   "source": [
    "cik"
   ]
  },
  {
   "cell_type": "code",
   "execution_count": null,
   "metadata": {},
   "outputs": [],
   "source": []
  }
 ],
 "metadata": {
  "kernelspec": {
   "display_name": "Python 3",
   "language": "python",
   "name": "python3"
  },
  "language_info": {
   "codemirror_mode": {
    "name": "ipython",
    "version": 3
   },
   "file_extension": ".py",
   "mimetype": "text/x-python",
   "name": "python",
   "nbconvert_exporter": "python",
   "pygments_lexer": "ipython3",
   "version": "3.10.12"
  }
 },
 "nbformat": 4,
 "nbformat_minor": 2
}
